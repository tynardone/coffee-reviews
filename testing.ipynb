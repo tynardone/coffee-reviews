{
 "cells": [
  {
   "cell_type": "code",
   "execution_count": 12,
   "metadata": {},
   "outputs": [],
   "source": [
    "import pandas as pd\n",
    "import json \n",
    "import requests\n",
    "from bs4 import BeautifulSoup\n",
    "from review_parse import parse_html\n",
    "df = pd.read_json('data/raw-roast-reviews.json')"
   ]
  },
  {
   "cell_type": "code",
   "execution_count": 13,
   "metadata": {},
   "outputs": [
    {
     "data": {
      "text/plain": [
       "Index(['Roaster Location:', 'Coffee Origin:', 'Roast Level:', 'Agtron:',\n",
       "       'Est. Price:', 'Review Date:', 'Aroma:', 'Acidity/Structure:', 'Body:',\n",
       "       'Flavor:', 'Aftertaste:', 'rating', 'roaster', 'name', 'url',\n",
       "       'With Milk:', 'Acidity:'],\n",
       "      dtype='object')"
      ]
     },
     "execution_count": 13,
     "metadata": {},
     "output_type": "execute_result"
    }
   ],
   "source": [
    "df.columns"
   ]
  },
  {
   "cell_type": "code",
   "execution_count": 34,
   "metadata": {},
   "outputs": [
    {
     "data": {
      "text/plain": [
       "'https://www.coffeereview.com/review/dr-congo-muungnano-natural-single-origin-espresso/'"
      ]
     },
     "execution_count": 34,
     "metadata": {},
     "output_type": "execute_result"
    }
   ],
   "source": [
    "df[(df['Acidity/Structure:'].isna()) & (df['Acidity:'].isna())].url\n",
    "df.iloc[13].url"
   ]
  },
  {
   "cell_type": "code",
   "execution_count": 15,
   "metadata": {},
   "outputs": [
    {
     "data": {
      "text/html": [
       "<div>\n",
       "<style scoped>\n",
       "    .dataframe tbody tr th:only-of-type {\n",
       "        vertical-align: middle;\n",
       "    }\n",
       "\n",
       "    .dataframe tbody tr th {\n",
       "        vertical-align: top;\n",
       "    }\n",
       "\n",
       "    .dataframe thead th {\n",
       "        text-align: right;\n",
       "    }\n",
       "</style>\n",
       "<table border=\"1\" class=\"dataframe\">\n",
       "  <thead>\n",
       "    <tr style=\"text-align: right;\">\n",
       "      <th></th>\n",
       "      <th>Roaster Location:</th>\n",
       "      <th>Coffee Origin:</th>\n",
       "      <th>Roast Level:</th>\n",
       "      <th>Agtron:</th>\n",
       "      <th>Est. Price:</th>\n",
       "      <th>Review Date:</th>\n",
       "      <th>Aroma:</th>\n",
       "      <th>Acidity/Structure:</th>\n",
       "      <th>Body:</th>\n",
       "      <th>Flavor:</th>\n",
       "      <th>Aftertaste:</th>\n",
       "      <th>rating</th>\n",
       "      <th>roaster</th>\n",
       "      <th>name</th>\n",
       "      <th>url</th>\n",
       "      <th>With Milk:</th>\n",
       "      <th>Acidity:</th>\n",
       "    </tr>\n",
       "  </thead>\n",
       "  <tbody>\n",
       "    <tr>\n",
       "      <th>6980</th>\n",
       "      <td>Berkeley, California</td>\n",
       "      <td>Bouquete growing region, western Panama</td>\n",
       "      <td>Very Dark</td>\n",
       "      <td>27/29</td>\n",
       "      <td>NaN</td>\n",
       "      <td>August 2003</td>\n",
       "      <td>8</td>\n",
       "      <td>NaN</td>\n",
       "      <td>7\\t\\t\\t\\t\\t\\t</td>\n",
       "      <td>7</td>\n",
       "      <td>NaN</td>\n",
       "      <td>86</td>\n",
       "      <td>Uncommon Grounds</td>\n",
       "      <td>Panamanian</td>\n",
       "      <td>https://www.coffeereview.com/review/panamanian/</td>\n",
       "      <td>8</td>\n",
       "      <td>NaN</td>\n",
       "    </tr>\n",
       "    <tr>\n",
       "      <th>7005</th>\n",
       "      <td>Berkeley, California</td>\n",
       "      <td>Colombia</td>\n",
       "      <td>Very Dark</td>\n",
       "      <td>30/33</td>\n",
       "      <td>NaN</td>\n",
       "      <td>August 2003</td>\n",
       "      <td>8</td>\n",
       "      <td>NaN</td>\n",
       "      <td>8\\t\\t\\t\\t\\t\\t</td>\n",
       "      <td>8</td>\n",
       "      <td>NaN</td>\n",
       "      <td>88</td>\n",
       "      <td>Uncommon Grounds</td>\n",
       "      <td>Colombian</td>\n",
       "      <td>https://www.coffeereview.com/review/colombian/</td>\n",
       "      <td>8</td>\n",
       "      <td>NaN</td>\n",
       "    </tr>\n",
       "    <tr>\n",
       "      <th>7277</th>\n",
       "      <td>Berkeley, California</td>\n",
       "      <td>NaN</td>\n",
       "      <td>NA</td>\n",
       "      <td>/</td>\n",
       "      <td>NaN</td>\n",
       "      <td>September 2000</td>\n",
       "      <td>7</td>\n",
       "      <td>NaN</td>\n",
       "      <td>7\\t\\t\\t\\t\\t\\t</td>\n",
       "      <td>7</td>\n",
       "      <td>NaN</td>\n",
       "      <td>84</td>\n",
       "      <td>Uncommon Grounds</td>\n",
       "      <td>Fair-Trade Organic Nicaraguan</td>\n",
       "      <td>https://www.coffeereview.com/review/fair-trade...</td>\n",
       "      <td>NaN</td>\n",
       "      <td>5</td>\n",
       "    </tr>\n",
       "    <tr>\n",
       "      <th>7288</th>\n",
       "      <td>Berkeley, California</td>\n",
       "      <td>NaN</td>\n",
       "      <td>NA</td>\n",
       "      <td>/</td>\n",
       "      <td>NaN</td>\n",
       "      <td>April 2000</td>\n",
       "      <td>8</td>\n",
       "      <td>NaN</td>\n",
       "      <td>8\\t\\t\\t\\t\\t\\t</td>\n",
       "      <td>10</td>\n",
       "      <td>NaN</td>\n",
       "      <td>93</td>\n",
       "      <td>Uncommon Grounds</td>\n",
       "      <td>Organic Timor</td>\n",
       "      <td>https://www.coffeereview.com/review/organic-ti...</td>\n",
       "      <td>NaN</td>\n",
       "      <td>7</td>\n",
       "    </tr>\n",
       "    <tr>\n",
       "      <th>7673</th>\n",
       "      <td>Berkeley, California</td>\n",
       "      <td>NaN</td>\n",
       "      <td>Very Dark</td>\n",
       "      <td>30/32</td>\n",
       "      <td>NaN</td>\n",
       "      <td>April 1997</td>\n",
       "      <td>7</td>\n",
       "      <td>NaN</td>\n",
       "      <td>6\\t\\t\\t\\t\\t\\t</td>\n",
       "      <td>6</td>\n",
       "      <td>NaN</td>\n",
       "      <td>80</td>\n",
       "      <td>Uncommon Grounds</td>\n",
       "      <td>Sumatra Gayo Mountain</td>\n",
       "      <td>https://www.coffeereview.com/review/sumatra-ga...</td>\n",
       "      <td>NaN</td>\n",
       "      <td>5</td>\n",
       "    </tr>\n",
       "    <tr>\n",
       "      <th>7678</th>\n",
       "      <td>Berkeley, California</td>\n",
       "      <td>NaN</td>\n",
       "      <td>Dark</td>\n",
       "      <td>35/36</td>\n",
       "      <td>NaN</td>\n",
       "      <td>April 1997</td>\n",
       "      <td>8</td>\n",
       "      <td>NaN</td>\n",
       "      <td>7\\t\\t\\t\\t\\t\\t</td>\n",
       "      <td>7</td>\n",
       "      <td>NaN</td>\n",
       "      <td>85</td>\n",
       "      <td>Uncommon Grounds</td>\n",
       "      <td>Gumanch</td>\n",
       "      <td>https://www.coffeereview.com/review/gumanch/</td>\n",
       "      <td>NaN</td>\n",
       "      <td>7</td>\n",
       "    </tr>\n",
       "  </tbody>\n",
       "</table>\n",
       "</div>"
      ],
      "text/plain": [
       "          Roaster Location:                           Coffee Origin:  \\\n",
       "6980   Berkeley, California  Bouquete growing region, western Panama   \n",
       "7005   Berkeley, California                                 Colombia   \n",
       "7277   Berkeley, California                                      NaN   \n",
       "7288   Berkeley, California                                      NaN   \n",
       "7673   Berkeley, California                                      NaN   \n",
       "7678   Berkeley, California                                      NaN   \n",
       "\n",
       "     Roast Level: Agtron: Est. Price:    Review Date: Aroma:  \\\n",
       "6980    Very Dark   27/29         NaN     August 2003      8   \n",
       "7005    Very Dark   30/33         NaN     August 2003      8   \n",
       "7277           NA       /         NaN  September 2000      7   \n",
       "7288           NA       /         NaN      April 2000      8   \n",
       "7673    Very Dark   30/32         NaN      April 1997      7   \n",
       "7678         Dark   35/36         NaN      April 1997      8   \n",
       "\n",
       "      Acidity/Structure:          Body: Flavor:  Aftertaste: rating  \\\n",
       "6980                 NaN  7\\t\\t\\t\\t\\t\\t       7          NaN     86   \n",
       "7005                 NaN  8\\t\\t\\t\\t\\t\\t       8          NaN     88   \n",
       "7277                 NaN  7\\t\\t\\t\\t\\t\\t       7          NaN     84   \n",
       "7288                 NaN  8\\t\\t\\t\\t\\t\\t      10          NaN     93   \n",
       "7673                 NaN  6\\t\\t\\t\\t\\t\\t       6          NaN     80   \n",
       "7678                 NaN  7\\t\\t\\t\\t\\t\\t       7          NaN     85   \n",
       "\n",
       "               roaster                           name  \\\n",
       "6980  Uncommon Grounds                     Panamanian   \n",
       "7005  Uncommon Grounds                      Colombian   \n",
       "7277  Uncommon Grounds  Fair-Trade Organic Nicaraguan   \n",
       "7288  Uncommon Grounds                  Organic Timor   \n",
       "7673  Uncommon Grounds          Sumatra Gayo Mountain   \n",
       "7678  Uncommon Grounds                        Gumanch   \n",
       "\n",
       "                                                    url With Milk: Acidity:  \n",
       "6980    https://www.coffeereview.com/review/panamanian/          8      NaN  \n",
       "7005     https://www.coffeereview.com/review/colombian/          8      NaN  \n",
       "7277  https://www.coffeereview.com/review/fair-trade...        NaN        5  \n",
       "7288  https://www.coffeereview.com/review/organic-ti...        NaN        7  \n",
       "7673  https://www.coffeereview.com/review/sumatra-ga...        NaN        5  \n",
       "7678       https://www.coffeereview.com/review/gumanch/        NaN        7  "
      ]
     },
     "execution_count": 15,
     "metadata": {},
     "output_type": "execute_result"
    }
   ],
   "source": [
    "df[df['roaster'] == 'Uncommon Grounds']"
   ]
  },
  {
   "cell_type": "code",
   "execution_count": 16,
   "metadata": {},
   "outputs": [],
   "source": [
    "with open('data/raw-roast-reviews.json', 'r') as f:\n",
    "    data  = json.load(f)"
   ]
  },
  {
   "cell_type": "code",
   "execution_count": 17,
   "metadata": {},
   "outputs": [
    {
     "data": {
      "text/plain": [
       "[{'Roaster Location:': 'Berkeley, California',\n",
       "  'Coffee Origin:': 'Bouquete growing region, western Panama',\n",
       "  'Roast Level:': 'Very Dark',\n",
       "  'Agtron:': '27/29',\n",
       "  'Review Date:': 'August 2003',\n",
       "  'Aroma:': '8',\n",
       "  'Body:': '7\\t\\t\\t\\t\\t\\t',\n",
       "  'Flavor:': '7',\n",
       "  'With Milk:': '8',\n",
       "  'rating': '86',\n",
       "  'roaster': 'Uncommon Grounds',\n",
       "  'name': 'Panamanian',\n",
       "  'url': 'https://www.coffeereview.com/review/panamanian/'},\n",
       " {'Roaster Location:': 'Berkeley, California',\n",
       "  'Coffee Origin:': 'Colombia',\n",
       "  'Roast Level:': 'Very Dark',\n",
       "  'Agtron:': '30/33',\n",
       "  'Review Date:': 'August 2003',\n",
       "  'Aroma:': '8',\n",
       "  'Body:': '8\\t\\t\\t\\t\\t\\t',\n",
       "  'Flavor:': '8',\n",
       "  'With Milk:': '8',\n",
       "  'rating': '88',\n",
       "  'roaster': 'Uncommon Grounds',\n",
       "  'name': 'Colombian',\n",
       "  'url': 'https://www.coffeereview.com/review/colombian/'},\n",
       " {'Roaster Location:': ' Berkeley, California',\n",
       "  'Roast Level:': 'NA',\n",
       "  'Agtron:': '/',\n",
       "  'Review Date:': 'September 2000',\n",
       "  'Aroma:': '7',\n",
       "  'Acidity:': '5',\n",
       "  'Body:': '7\\t\\t\\t\\t\\t\\t',\n",
       "  'Flavor:': '7',\n",
       "  'rating': '84',\n",
       "  'roaster': 'Uncommon Grounds',\n",
       "  'name': 'Fair-Trade Organic Nicaraguan',\n",
       "  'url': 'https://www.coffeereview.com/review/fair-trade-organic-nicaraguan/'},\n",
       " {'Roaster Location:': ' Berkeley, California',\n",
       "  'Roast Level:': 'NA',\n",
       "  'Agtron:': '/',\n",
       "  'Review Date:': 'April 2000',\n",
       "  'Aroma:': '8',\n",
       "  'Acidity:': '7',\n",
       "  'Body:': '8\\t\\t\\t\\t\\t\\t',\n",
       "  'Flavor:': '10',\n",
       "  'rating': '93',\n",
       "  'roaster': 'Uncommon Grounds',\n",
       "  'name': 'Organic Timor',\n",
       "  'url': 'https://www.coffeereview.com/review/organic-timor-3/'},\n",
       " {'Roaster Location:': 'Berkeley, California',\n",
       "  'Roast Level:': 'Very Dark',\n",
       "  'Agtron:': '30/32',\n",
       "  'Review Date:': 'April 1997',\n",
       "  'Aroma:': '7',\n",
       "  'Acidity:': '5',\n",
       "  'Body:': '6\\t\\t\\t\\t\\t\\t',\n",
       "  'Flavor:': '6',\n",
       "  'rating': '80',\n",
       "  'roaster': 'Uncommon Grounds',\n",
       "  'name': 'Sumatra Gayo Mountain',\n",
       "  'url': 'https://www.coffeereview.com/review/sumatra-gayo-mountain/'},\n",
       " {'Roaster Location:': 'Berkeley, California',\n",
       "  'Roast Level:': 'Dark',\n",
       "  'Agtron:': '35/36',\n",
       "  'Review Date:': 'April 1997',\n",
       "  'Aroma:': '8',\n",
       "  'Acidity:': '7',\n",
       "  'Body:': '7\\t\\t\\t\\t\\t\\t',\n",
       "  'Flavor:': '7',\n",
       "  'rating': '85',\n",
       "  'roaster': 'Uncommon Grounds',\n",
       "  'name': 'Gumanch',\n",
       "  'url': 'https://www.coffeereview.com/review/gumanch/'}]"
      ]
     },
     "execution_count": 17,
     "metadata": {},
     "output_type": "execute_result"
    }
   ],
   "source": [
    "[d for d in data if d['roaster'] == 'Uncommon Grounds']"
   ]
  },
  {
   "cell_type": "code",
   "execution_count": 18,
   "metadata": {},
   "outputs": [],
   "source": [
    "headers = {'User-Agent':\n",
    "    'Mozilla/5.0 (Linux; Android 6.0; Nexus 5 Build/MRA58N) AppleWebKit/537.36 (KHTML, like Gecko) Chrome/116.0.0.0 Mobile Safari/537.36'}\n",
    "r = requests.get('https://www.coffeereview.com/review/sumatra-gayo-mountain/', headers=headers)"
   ]
  },
  {
   "cell_type": "code",
   "execution_count": 19,
   "metadata": {},
   "outputs": [
    {
     "data": {
      "text/plain": [
       "200"
      ]
     },
     "execution_count": 19,
     "metadata": {},
     "output_type": "execute_result"
    }
   ],
   "source": [
    "r.status_code"
   ]
  },
  {
   "cell_type": "code",
   "execution_count": 20,
   "metadata": {},
   "outputs": [
    {
     "data": {
      "text/plain": [
       "{'Roaster Location:': 'Berkeley, California',\n",
       " 'Roast Level:': 'Very Dark',\n",
       " 'Agtron:': '30/32',\n",
       " 'Review Date:': 'April 1997',\n",
       " 'Aroma:': '7',\n",
       " 'Acidity:': '5',\n",
       " 'Body:': '6\\t\\t\\t\\t\\t\\t',\n",
       " 'Flavor:': '6',\n",
       " 'rating': '80',\n",
       " 'roaster': 'Uncommon Grounds',\n",
       " 'name': 'Sumatra Gayo Mountain'}"
      ]
     },
     "execution_count": 20,
     "metadata": {},
     "output_type": "execute_result"
    }
   ],
   "source": [
    "parse_html(r.text)"
   ]
  },
  {
   "cell_type": "code",
   "execution_count": 21,
   "metadata": {},
   "outputs": [],
   "source": [
    "soup = BeautifulSoup(r.text, 'lxml')"
   ]
  },
  {
   "cell_type": "code",
   "execution_count": 24,
   "metadata": {},
   "outputs": [
    {
     "name": "stdout",
     "output_type": "stream",
     "text": [
      "<main class=\"content\" id=\"genesis-content\"><div class=\"mobile-ad-in-content\"><!-- Widget Shortcode --><div class=\"widget widget_cr_advertiser_widget widget-shortcode area-sidebar\" id=\"cr_advertiser_widget-2\"><div class=\"cr-advertiser-widget-content\"></div> <script> \n",
      "\t\t\tvar passedArray = [{\"url\":\"https:\\/\\/www.willoughbyscoffee.com\\/\",\"thumb\":\"<img width=\\\"300\\\" height=\\\"190\\\" src=\\\"https:\\/\\/www.coffeereview.com\\/wp-content\\/uploads\\/2014\\/04\\/CR_Willoughbys_300x190_vA-300x190.jpg\\\" class=\\\"attachment-medium size-medium wp-post-image\\\" alt=\\\"Visit Willoughby&#039;s Coffee And Tea\\\" decoding=\\\"async\\\" \\/>\",\"excerpt\":\"\"},{\"url\":\"https:\\/\\/www.1stincoffee.com\",\"thumb\":\"<img width=\\\"300\\\" height=\\\"190\\\" src=\\\"https:\\/\\/www.coffeereview.com\\/wp-content\\/uploads\\/2014\\/04\\/CR_firstincoffee_300x190-300x190.jpg\\\" class=\\\"attachment-medium size-medium wp-post-image\\\" alt=\\\"1st in Coffee Logo\\\" decoding=\\\"async\\\" \\/>\",\"excerpt\":\"Superior service and low prices on top-quality espresso machines, coffee equipment, and accessories.  Free shipping.\"},{\"url\":\"http:\\/\\/www.mysticmonkcoffee.com\",\"thumb\":\"<img width=\\\"300\\\" height=\\\"190\\\" src=\\\"https:\\/\\/www.coffeereview.com\\/wp-content\\/uploads\\/2014\\/04\\/CR_mysticmonk_300x190-300x190.jpg\\\" class=\\\"attachment-medium size-medium wp-post-image\\\" alt=\\\"Mystic Monk Coffee Ad\\\" decoding=\\\"async\\\" \\/>\",\"excerpt\":\"Gourmet coffees roasted by the Carmelite Monks at their monastery in the Rocky Mountains of northern Wyoming.\"},{\"url\":\"https:\\/\\/bit.ly\\/2QI1d31\",\"thumb\":\"<img width=\\\"300\\\" height=\\\"189\\\" src=\\\"https:\\/\\/www.coffeereview.com\\/wp-content\\/uploads\\/2020\\/07\\/Ramshead-banner-300x190-May-2022-300x189.png\\\" class=\\\"attachment-medium size-medium wp-post-image\\\" alt=\\\"\\\" decoding=\\\"async\\\" srcset=\\\"https:\\/\\/www.coffeereview.com\\/wp-content\\/uploads\\/2020\\/07\\/Ramshead-banner-300x190-May-2022-300x189.png 300w, https:\\/\\/www.coffeereview.com\\/wp-content\\/uploads\\/2020\\/07\\/Ramshead-banner-300x190-May-2022-1024x646.png 1024w, https:\\/\\/www.coffeereview.com\\/wp-content\\/uploads\\/2020\\/07\\/Ramshead-banner-300x190-May-2022-768x485.png 768w, https:\\/\\/www.coffeereview.com\\/wp-content\\/uploads\\/2020\\/07\\/Ramshead-banner-300x190-May-2022-1536x969.png 1536w, https:\\/\\/www.coffeereview.com\\/wp-content\\/uploads\\/2020\\/07\\/Ramshead-banner-300x190-May-2022.png 1686w\\\" sizes=\\\"(max-width: 300px) 100vw, 300px\\\" \\/>\",\"excerpt\":\"\"},{\"url\":\"https:\\/\\/paradiseroasters.com\\/collections\\/coffee-reviews\",\"thumb\":\"<img width=\\\"300\\\" height=\\\"190\\\" src=\\\"https:\\/\\/www.coffeereview.com\\/wp-content\\/uploads\\/2014\\/04\\/paradise-cr-1-300x190.jpg\\\" class=\\\"attachment-medium size-medium wp-post-image\\\" alt=\\\"Shop for top-rated coffees at Paradise Roasters\\\" decoding=\\\"async\\\" srcset=\\\"https:\\/\\/www.coffeereview.com\\/wp-content\\/uploads\\/2014\\/04\\/paradise-cr-1-300x190.jpg 300w, https:\\/\\/www.coffeereview.com\\/wp-content\\/uploads\\/2014\\/04\\/paradise-cr-1.jpg 600w\\\" sizes=\\\"(max-width: 300px) 100vw, 300px\\\" \\/>\",\"excerpt\":\"Elite single-origin coffees and top-rated espressos.\"},{\"url\":\"https:\\/\\/roadmapcoffeeworks.com\\/\",\"thumb\":\"<img width=\\\"300\\\" height=\\\"190\\\" src=\\\"https:\\/\\/www.coffeereview.com\\/wp-content\\/uploads\\/2022\\/04\\/Roadmap-Banner-Apr-20221-300x190.jpg\\\" class=\\\"attachment-medium size-medium wp-post-image\\\" alt=\\\"\\\" decoding=\\\"async\\\" fetchpriority=\\\"high\\\" srcset=\\\"https:\\/\\/www.coffeereview.com\\/wp-content\\/uploads\\/2022\\/04\\/Roadmap-Banner-Apr-20221-300x190.jpg 300w, https:\\/\\/www.coffeereview.com\\/wp-content\\/uploads\\/2022\\/04\\/Roadmap-Banner-Apr-20221-1024x647.jpg 1024w, https:\\/\\/www.coffeereview.com\\/wp-content\\/uploads\\/2022\\/04\\/Roadmap-Banner-Apr-20221-768x485.jpg 768w, https:\\/\\/www.coffeereview.com\\/wp-content\\/uploads\\/2022\\/04\\/Roadmap-Banner-Apr-20221.jpg 1342w\\\" sizes=\\\"(max-width: 300px) 100vw, 300px\\\" \\/>\",\"excerpt\":\"\"},{\"url\":\"https:\\/\\/www.klatchcoffee.com\\/products\\/sunkissed-spro\",\"thumb\":\"<img width=\\\"300\\\" height=\\\"190\\\" src=\\\"https:\\/\\/www.coffeereview.com\\/wp-content\\/uploads\\/2018\\/11\\/Klatch-Coffee-New-Summer-coffee-CoffeeReview-300x190.png\\\" class=\\\"attachment-medium size-medium wp-post-image\\\" alt=\\\"\\\" decoding=\\\"async\\\" srcset=\\\"https:\\/\\/www.coffeereview.com\\/wp-content\\/uploads\\/2018\\/11\\/Klatch-Coffee-New-Summer-coffee-CoffeeReview-300x190.png 300w, https:\\/\\/www.coffeereview.com\\/wp-content\\/uploads\\/2018\\/11\\/Klatch-Coffee-New-Summer-coffee-CoffeeReview.png 625w\\\" sizes=\\\"(max-width: 300px) 100vw, 300px\\\" \\/>\",\"excerpt\":\"\"},{\"url\":\"https:\\/\\/jackrabbitjava.com\\/\",\"thumb\":\"<img width=\\\"300\\\" height=\\\"190\\\" src=\\\"https:\\/\\/www.coffeereview.com\\/wp-content\\/uploads\\/2018\\/11\\/Jackrabbit-Banner-Aug-2020-300x190.png\\\" class=\\\"attachment-medium size-medium wp-post-image\\\" alt=\\\"Shop for top-rated coffees at Jackrabbit Java\\\" decoding=\\\"async\\\" srcset=\\\"https:\\/\\/www.coffeereview.com\\/wp-content\\/uploads\\/2018\\/11\\/Jackrabbit-Banner-Aug-2020-300x190.png 300w, https:\\/\\/www.coffeereview.com\\/wp-content\\/uploads\\/2018\\/11\\/Jackrabbit-Banner-Aug-2020.png 600w\\\" sizes=\\\"(max-width: 300px) 100vw, 300px\\\" \\/>\",\"excerpt\":\"\"},{\"url\":\"https:\\/\\/www.ptscoffee.com\",\"thumb\":\"<img width=\\\"300\\\" height=\\\"190\\\" src=\\\"https:\\/\\/www.coffeereview.com\\/wp-content\\/uploads\\/2014\\/04\\/PTs-300x190-banner-300x190.png\\\" class=\\\"attachment-medium size-medium wp-post-image\\\" alt=\\\"Shop for top-rated coffees at PT&#039;s Coffee\\\" decoding=\\\"async\\\" \\/>\",\"excerpt\":\"Award-winning single origin coffees and top-of-the-line equipment for homes and businesses.\"},{\"url\":\"https:\\/\\/www.templecoffee.com\",\"thumb\":\"<img width=\\\"300\\\" height=\\\"190\\\" src=\\\"https:\\/\\/www.coffeereview.com\\/wp-content\\/uploads\\/2014\\/04\\/Coffee-Review-Ad-Decv2-300x190.jpg\\\" class=\\\"attachment-medium size-medium wp-post-image\\\" alt=\\\"Shop for top-rated coffees at Temple Coffee\\\" decoding=\\\"async\\\" \\/>\",\"excerpt\":\"Temple Coffee specializing in artisan coffees from individual farms and cooperatives.\"}]; \n",
      "\t\t\tfunction advertiserSlideshow() {\n",
      "\t\t\t\tif ( document.getElementsByClassName('cr-advertiser-widget-content') ) {\n",
      "\t\t\t\t\tconst randomImageNumber = Math.floor( Math.random() * passedArray.length );\n",
      "\t\t\t\t\tvar items = document.getElementsByClassName('cr-advertiser-widget-content'), i, len;\n",
      "\t\t\t\t\tif ( passedArray[ randomImageNumber ].url === \"\" ) {\n",
      "\t\t\t\t\t\tfor ( i = 0, len = items.length; i < len; i++ ) {\n",
      "\t\t\t\t\t\t\titems[i].innerHTML = passedArray[ randomImageNumber ].thumb;\n",
      "\t\t\t\t\t\t}\n",
      "\t\t\t\t\t} else {\n",
      "\t\t\t\t\t\tfor ( i = 0, len = items.length; i < len; i++ ) {\n",
      "\t\t\t\t\t\t\titems[i].innerHTML = '<a href=\"' + passedArray[ randomImageNumber ].url + '\" target=\"_blank\" rel=\"nofollow\" title=\"' + passedArray[ randomImageNumber ].excerpt + '\">' + passedArray[ randomImageNumber ].thumb + '</a>';\n",
      "\t\t\t\t\t\t}\n",
      "\t\t\t\t\t}\n",
      "\t\t\t\t}\n",
      "\t\t\t}\n",
      "\t\t\t// Run slideshow once\n",
      "\t\t\tadvertiserSlideshow();\n",
      "\t\t\t// Repeat slideshow\n",
      "\t\t\tsetInterval( advertiserSlideshow, 8000 );\n",
      "\t\t</script>\n",
      "</div><!-- /Widget Shortcode --><br/></div><div class=\"mobile-ad-in-content\"><!-- Widget Shortcode --><div class=\"widget strong-testimonials-view-widget widget-shortcode area-sidebar\" id=\"strong-testimonials-view-widget-2\"><div class=\"strong-view strong-view-id-1 unstyled wpmtst-unstyled slider-container slider-mode-fade slider-adaptive\" data-count=\"13\" data-slider-var=\"strong_slider_id_1\" data-state=\"idle\"><div class=\"strong-content wpmslider-content\"><div class=\"wpmtst-testimonial testimonial t-slide post-18221\"><div class=\"wpmtst-testimonial-inner testimonial-inner\"><div class=\"wpmtst-testimonial-content testimonial-content\" data-infinite-loop=\"false\"><div class=\"maybe-clear\"></div><p><a href=\"https://www.durangocoffee.com/\" rel=\"noopener noreferrer\" target=\"_blank\"><img alt=\"Shop for top-rated coffees at Durango Coffee Company\" class=\"aligncenter wp-image-16445\" decoding=\"async\" height=\"249\" loading=\"lazy\" src=\"https://www.coffeereview.com/wp-content/uploads/2018/01/Durango-300x250-0218.webp\" width=\"301\"/></a></p></div><div class=\"clear\"></div></div></div><div class=\"wpmtst-testimonial testimonial t-slide post-18224\"><div class=\"wpmtst-testimonial-inner testimonial-inner\"><div class=\"wpmtst-testimonial-content testimonial-content\" data-infinite-loop=\"false\"><div class=\"maybe-clear\"></div><p><a href=\"https://www.huladaddy.com/catalog-coffee\" rel=\"noopener\" target=\"_blank\"><img alt=\"\" class=\"aligncenter wp-image-23016 size-full\" decoding=\"async\" height=\"250\" loading=\"lazy\" src=\"https://www.coffeereview.com/wp-content/uploads/2019/04/hula-daddy-Kona-typica-300x250-v2.webp\" width=\"300\"/></a></p></div><div class=\"clear\"></div></div></div><div class=\"wpmtst-testimonial testimonial t-slide post-18232\"><div class=\"wpmtst-testimonial-inner testimonial-inner\"><div class=\"wpmtst-testimonial-content testimonial-content\" data-infinite-loop=\"false\"><div class=\"maybe-clear\"></div><p><a href=\"https://paradiseroasters.com/\" rel=\"noopener\" target=\"_blank\"><img alt=\"Shop for No. 1 coffee of 2021 at Paradise Roasters\" class=\"aligncenter wp-image-21808 size-full\" decoding=\"async\" height=\"250\" loading=\"lazy\" src=\"https://www.coffeereview.com/wp-content/uploads/2019/04/PR_No-1-Roaster-300x250-v1.webp\" width=\"300\"/></a></p></div><div class=\"clear\"></div></div></div><div class=\"wpmtst-testimonial testimonial t-slide post-18237\"><div class=\"wpmtst-testimonial-inner testimonial-inner\"><div class=\"wpmtst-testimonial-content testimonial-content\" data-infinite-loop=\"false\"><div class=\"maybe-clear\"></div><p><a href=\"https://bit.ly/2PJ0bQF\" rel=\"noopener noreferrer\" target=\"_blank\"><img alt=\"Shop for top-rated coffees at Amavida Coffee Roasters\" class=\"aligncenter size-medium wp-image-17818\" decoding=\"async\" height=\"250\" loading=\"lazy\" src=\"https://www.coffeereview.com/wp-content/uploads/2019/02/013_coffee_review_14-300x250.webp\" width=\"300\"/></a></p></div><div class=\"clear\"></div></div></div><div class=\"wpmtst-testimonial testimonial t-slide post-18239\"><div class=\"wpmtst-testimonial-inner testimonial-inner\"><div class=\"wpmtst-testimonial-content testimonial-content\" data-infinite-loop=\"false\"><div class=\"maybe-clear\"></div><p><a href=\"https://barringtoncoffee.com/product-category/all-coffees/\" rel=\"noopener noreferrer\" target=\"_blank\"><img alt=\"Shop for Top-rated coffees at Barrington Coffee Roasters\" class=\"aligncenter size-medium wp-image-17787\" decoding=\"async\" height=\"250\" loading=\"lazy\" src=\"https://www.coffeereview.com/wp-content/uploads/2018/05/BCRC_CR-Ads-300x250_2018awards-300x250.webp\" width=\"300\"/></a></p></div><div class=\"clear\"></div></div></div><div class=\"wpmtst-testimonial testimonial t-slide post-18241\"><div class=\"wpmtst-testimonial-inner testimonial-inner\"><div class=\"wpmtst-testimonial-content testimonial-content\" data-infinite-loop=\"false\"><div class=\"maybe-clear\"></div><p><a href=\"https://www.kakalovecafe.com.tw/categories/55080dba0390558ae2000043\" rel=\"noopener noreferrer\" target=\"_blank\"><img alt=\"Shop for top-rated coffees at Kakalove in Taiwan\" class=\"aligncenter size-medium wp-image-18820\" decoding=\"async\" height=\"250\" loading=\"lazy\" src=\"https://www.coffeereview.com/wp-content/uploads/2019/04/KAKALOVE_ad-300x250.webp\" width=\"300\"/></a></p></div><div class=\"clear\"></div></div></div><div class=\"wpmtst-testimonial testimonial t-slide post-18363\"><div class=\"wpmtst-testimonial-inner testimonial-inner\"><div class=\"wpmtst-testimonial-content testimonial-content\" data-infinite-loop=\"false\"><div class=\"maybe-clear\"></div><p><a href=\"https://www.jbccoffeeroasters.com/product-category/coffee/\" rel=\"noopener\" target=\"_blank\"><img alt=\"\" class=\"aligncenter wp-image-23162 size-full\" decoding=\"async\" height=\"250\" loading=\"lazy\" src=\"https://www.coffeereview.com/wp-content/uploads/2019/05/Coffee-Review-Ad-Updated-2023-final-really.webp\" width=\"300\"/></a></p></div><div class=\"clear\"></div></div></div><div class=\"wpmtst-testimonial testimonial t-slide post-20952\"><div class=\"wpmtst-testimonial-inner testimonial-inner\"><div class=\"wpmtst-testimonial-content testimonial-content\" data-infinite-loop=\"false\"><div class=\"maybe-clear\"></div><p><a href=\"https://bit.ly/2Q8yW5e\" rel=\"noopener\" target=\"_blank\"><img alt=\"\" class=\"aligncenter wp-image-20953 size-full\" decoding=\"async\" height=\"250\" loading=\"lazy\" src=\"https://www.coffeereview.com/wp-content/uploads/2021/04/ShowroomCoffee_300x250.webp\" width=\"300\"/></a></p></div><div class=\"clear\"></div></div></div><div class=\"wpmtst-testimonial testimonial t-slide post-22340\"><div class=\"wpmtst-testimonial-inner testimonial-inner\"><div class=\"wpmtst-testimonial-content testimonial-content\" data-infinite-loop=\"false\"><div class=\"maybe-clear\"></div><p><a href=\"https://shop.magnoliacoffeeco.com/\" rel=\"noopener\" target=\"_blank\"><img alt=\"\" class=\"aligncenter size-full wp-image-23269\" decoding=\"async\" height=\"250\" loading=\"lazy\" src=\"https://www.coffeereview.com/wp-content/uploads/2022/05/0089_Mag_Coffee_Review_Ad_300x250.webp\" width=\"300\"/></a></p></div><div class=\"clear\"></div></div></div><div class=\"wpmtst-testimonial testimonial t-slide post-23014\"><div class=\"wpmtst-testimonial-inner testimonial-inner\"><div class=\"wpmtst-testimonial-content testimonial-content\" data-infinite-loop=\"false\"><div class=\"maybe-clear\"></div><p><a href=\"https://bit.ly/2QI1d31\" rel=\"noopener\" target=\"_blank\"><img alt=\"\" class=\"aligncenter wp-image-23015 size-full\" decoding=\"async\" height=\"250\" loading=\"lazy\" src=\"https://www.coffeereview.com/wp-content/uploads/2022/11/Screen-Shot-2022-11-25-at-7.46.50-AM-e1669391834586.webp\" width=\"300\"/></a></p></div><div class=\"clear\"></div></div></div><div class=\"wpmtst-testimonial testimonial t-slide post-23197\"><div class=\"wpmtst-testimonial-inner testimonial-inner\"><div class=\"wpmtst-testimonial-content testimonial-content\" data-infinite-loop=\"false\"><div class=\"maybe-clear\"></div><p><a href=\"http://bit.ly/3iWt4Lz\" rel=\"noopener\" target=\"_blank\"><img alt=\"\" class=\"aligncenter wp-image-23204 size-full\" decoding=\"async\" height=\"250\" loading=\"lazy\" src=\"https://www.coffeereview.com/wp-content/uploads/2023/01/Thanksgiving-FINAL_AD_CR_2023.webp\" width=\"300\"/></a></p></div><div class=\"clear\"></div></div></div><div class=\"wpmtst-testimonial testimonial t-slide post-23313\"><div class=\"wpmtst-testimonial-inner testimonial-inner\"><div class=\"wpmtst-testimonial-content testimonial-content\" data-infinite-loop=\"false\"><div class=\"maybe-clear\"></div><p><a href=\"https://www.redroostercoffee.com/?utm_source=coffee_review&amp;medium=banner\" rel=\"noopener\" target=\"_blank\"><img alt=\"\" class=\"aligncenter size-full wp-image-23312\" decoding=\"async\" height=\"250\" loading=\"lazy\" src=\"https://www.coffeereview.com/wp-content/uploads/2023/03/coffee-review-march-2023.webp\" width=\"300\"/></a></p></div><div class=\"clear\"></div></div></div><div class=\"wpmtst-testimonial testimonial t-slide post-23391\"><div class=\"wpmtst-testimonial-inner testimonial-inner\"><div class=\"wpmtst-testimonial-content testimonial-content\" data-infinite-loop=\"false\"><div class=\"maybe-clear\"></div><p><a href=\"http://bit.ly/3Zl4nHD\" rel=\"noopener\" target=\"_blank\"><img alt=\"\" class=\"aligncenter wp-image-22139 size-full\" decoding=\"async\" height=\"250\" loading=\"lazy\" src=\"https://www.coffeereview.com/wp-content/uploads/2022/03/21st-Century_300x250-v2.webp\" width=\"300\"/></a></p></div><div class=\"clear\"></div></div></div></div></div></div><!-- /Widget Shortcode --><br/></div><article aria-label=\"Sumatra Gayo Mountain\" class=\"post-7135 review type-review status-publish format-standard types-cooperative types-dark-roasts types-pacific entry override\"><header class=\"entry-header\"></header><div class=\"entry-content\"> <div class=\"review-template\">\n",
      "<div class=\"row row-1\">\n",
      "<div class=\"column col-1\">\n",
      "<span class=\"review-template-rating\">80</span>\n",
      "</div>\n",
      "<div class=\"column col-2\">\n",
      "<p class=\"review-roaster\">Uncommon Grounds</p>\n",
      "<h1 class=\"review-title\">Sumatra Gayo Mountain</h1>\n",
      "</div>\n",
      "<div class=\"column col-3\">\n",
      "</div>\n",
      "</div>\n",
      "<div class=\"row row-2\">\n",
      "<div class=\"column col-1\">\n",
      "<table class=\"review-template-table\">\n",
      "<tr>\n",
      "<td>Roaster Location:</td>\n",
      "<td>Berkeley, California</td>\n",
      "</tr>\n",
      "<tr>\n",
      "<td>Roast Level:</td>\n",
      "<td>Very Dark</td>\n",
      "</tr>\n",
      "<tr>\n",
      "<td>Agtron:</td>\n",
      "<td>30/32</td>\n",
      "</tr>\n",
      "</table>\n",
      "</div>\n",
      "<div class=\"column col-2\">\n",
      "<table class=\"review-template-table\">\n",
      "<tr>\n",
      "<td>Review Date:</td>\n",
      "<td>April 1997</td>\n",
      "</tr>\n",
      "<tr>\n",
      "<td>Aroma:</td>\n",
      "<td>7</td>\n",
      "</tr>\n",
      "<tr>\n",
      "<td>Acidity:</td> <td>5</td>\n",
      "</tr>\n",
      "<tr>\n",
      "<td>Body:</td>\n",
      "<td>6\t\t\t\t\t\t</td></tr>\n",
      "<tr>\n",
      "<td>Flavor:</td>\n",
      "<td>6</td>\n",
      "</tr>\n",
      "</table>\n",
      "</div>\n",
      "</div>\n",
      "<h2>Blind Assessment</h2>\n",
      "<p>Dark fruit (prune?) tones complicate a solid, balanced, dark-roast character. Some carbon at the top of the profile, but good Indonesia richness underneath. The carbon dominates in the aftertaste.</p>\n",
      "<h2>Notes</h2>\n",
      "<p>Dark fruit tones complicate a solid, balanced, dark-roast character. Gayo Mountain is a large cooperative near the northern tip of Sumatra.</p>\n",
      "<h2>Who Should Drink It</h2> <p>The roastmaster detected peach in the aroma of this coffee. I got prune. Perhaps his peaches are my prunes, which doesn't say much for my outlook on life. Try it yourself.</p><h2>Explore Similar Coffees</h2><p><a href=\"/all-reviews/?roaster_name=Uncommon+Grounds\" rel=\"nofollow\" title=\"Click here for more reviews from Uncommon Grounds.\">Click here</a> for more reviews from <b>Uncommon Grounds</b></p><div class=\"column col-2\"></div> </div>\n",
      "<p style=\"text-align: center;\"><br/>This review originally appeared in the April, 1997 tasting report: <a href=\"/the-dark-roast-controversy/\" style=\"font-weight: bold;\">The Dark-Roast Controversy</a></p></div><footer class=\"entry-footer\"></footer></article><img alt=\"\" class=\"dynamik-content-filler-img\" height=\"1\" src=\"https://www.coffeereview.com/wp-content/themes/dynamik-gen/images/content-filler.png\" width=\"3000\"/></main>\n"
     ]
    }
   ],
   "source": [
    "print(soup.main)"
   ]
  },
  {
   "cell_type": "code",
   "execution_count": null,
   "metadata": {},
   "outputs": [],
   "source": []
  },
  {
   "cell_type": "code",
   "execution_count": null,
   "metadata": {},
   "outputs": [],
   "source": []
  }
 ],
 "metadata": {
  "kernelspec": {
   "display_name": "coffee-review-env",
   "language": "python",
   "name": "coffee-review-env"
  },
  "language_info": {
   "codemirror_mode": {
    "name": "ipython",
    "version": 3
   },
   "file_extension": ".py",
   "mimetype": "text/x-python",
   "name": "python",
   "nbconvert_exporter": "python",
   "pygments_lexer": "ipython3",
   "version": "3.11.0"
  },
  "orig_nbformat": 4
 },
 "nbformat": 4,
 "nbformat_minor": 2
}

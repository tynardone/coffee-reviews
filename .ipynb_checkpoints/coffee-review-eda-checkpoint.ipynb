{
 "cells": [
  {
   "cell_type": "markdown",
   "id": "5662c72b",
   "metadata": {},
   "source": [
    "# Coffee Review Cleaning and EDA\n",
    "<img src=\"cup-beans.jpeg\" alt=\"drawing\" width=\"900\"/>\n"
   ]
  },
  {
   "cell_type": "code",
   "execution_count": 1,
   "id": "767da52c",
   "metadata": {},
   "outputs": [],
   "source": [
    "import pandas as pd\n",
    "import numpy as np\n",
    "import matplotlib.pyplot as plt\n",
    "import seaborn as sns"
   ]
  },
  {
   "cell_type": "code",
   "execution_count": 4,
   "id": "dda06423",
   "metadata": {},
   "outputs": [],
   "source": [
    "df = pd.read_csv('data/raw-coffee-reviews.csv')"
   ]
  },
  {
   "cell_type": "code",
   "execution_count": 6,
   "id": "b93a4546",
   "metadata": {},
   "outputs": [
    {
     "data": {
      "text/plain": [
       "Rating                   int64\n",
       "Roaster                 object\n",
       "Coffee_Name             object\n",
       "Review_Date             object\n",
       "Price                   object\n",
       "Review_Description      object\n",
       "Complete_Review_URL     object\n",
       "Roaster_Website_URL     object\n",
       "Roaster Location        object\n",
       "Coffee Origin           object\n",
       "Roast Level             object\n",
       "Aroma                  float64\n",
       "Acidity/Structure      float64\n",
       "Acidity                float64\n",
       "Body                   float64\n",
       "Flavor                 float64\n",
       "Aftertaste             float64\n",
       "Agtron                  object\n",
       "Blind Assessment        object\n",
       "Notes                   object\n",
       "Bottom Line             object\n",
       "url                     object\n",
       "dtype: object"
      ]
     },
     "execution_count": 6,
     "metadata": {},
     "output_type": "execute_result"
    }
   ],
   "source": [
    "df.dtypes"
   ]
  },
  {
   "cell_type": "markdown",
   "id": "21c38d0e",
   "metadata": {},
   "source": [
    "### Clean\n",
    "- review date to date\n",
    "- acidity/structure & acidity into one column\n",
    "- agtron into 2 columns\n",
    "- price into float\n",
    "- maybe: roaster into cat, lcoation into cat\n",
    "- aroma, acidity, body, flavor, aftertaste, agtron's into int\n",
    "- drop NA\n",
    "\n",
    "### EDA ideas\n",
    "- visualize histograms\n",
    "- visualize correlations\n",
    "- word clouds\n",
    "- tokenize descriptions\n",
    "- plot locations, roasters, roast level, agtron vs other characterisitcs\n",
    "- cluster analysis\n",
    "- standardize ratings?? \n",
    "\n"
   ]
  },
  {
   "cell_type": "code",
   "execution_count": 7,
   "id": "312d23df",
   "metadata": {},
   "outputs": [
    {
     "name": "stdout",
     "output_type": "stream",
     "text": [
      "<class 'pandas.core.frame.DataFrame'>\n",
      "RangeIndex: 2449 entries, 0 to 2448\n",
      "Data columns (total 22 columns):\n",
      " #   Column               Non-Null Count  Dtype  \n",
      "---  ------               --------------  -----  \n",
      " 0   Rating               2449 non-null   int64  \n",
      " 1   Roaster              2449 non-null   object \n",
      " 2   Coffee_Name          2449 non-null   object \n",
      " 3   Review_Date          2449 non-null   object \n",
      " 4   Price                2449 non-null   object \n",
      " 5   Review_Description   2449 non-null   object \n",
      " 6   Complete_Review_URL  2449 non-null   object \n",
      " 7   Roaster_Website_URL  1354 non-null   object \n",
      " 8   Roaster Location     2449 non-null   object \n",
      " 9   Coffee Origin        2449 non-null   object \n",
      " 10  Roast Level          2376 non-null   object \n",
      " 11  Aroma                2424 non-null   float64\n",
      " 12  Acidity/Structure    2108 non-null   float64\n",
      " 13  Acidity              3 non-null      float64\n",
      " 14  Body                 2448 non-null   float64\n",
      " 15  Flavor               2448 non-null   float64\n",
      " 16  Aftertaste           2448 non-null   float64\n",
      " 17  Agtron               2449 non-null   object \n",
      " 18  Blind Assessment     2449 non-null   object \n",
      " 19  Notes                2449 non-null   object \n",
      " 20  Bottom Line          2448 non-null   object \n",
      " 21  url                  2449 non-null   object \n",
      "dtypes: float64(6), int64(1), object(15)\n",
      "memory usage: 421.0+ KB\n"
     ]
    }
   ],
   "source": [
    "df.info()"
   ]
  },
  {
   "cell_type": "code",
   "execution_count": null,
   "id": "d738e5b4",
   "metadata": {},
   "outputs": [],
   "source": []
  }
 ],
 "metadata": {
  "kernelspec": {
   "display_name": "coffee-review-env",
   "language": "python",
   "name": "coffee-review-env"
  },
  "language_info": {
   "codemirror_mode": {
    "name": "ipython",
    "version": 3
   },
   "file_extension": ".py",
   "mimetype": "text/x-python",
   "name": "python",
   "nbconvert_exporter": "python",
   "pygments_lexer": "ipython3",
   "version": "3.11.0"
  }
 },
 "nbformat": 4,
 "nbformat_minor": 5
}
